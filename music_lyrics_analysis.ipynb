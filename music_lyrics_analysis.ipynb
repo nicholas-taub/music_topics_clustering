{
 "cells": [
  {
   "cell_type": "code",
   "execution_count": 83,
   "metadata": {},
   "outputs": [],
   "source": [
    "import numpy as np \n",
    "import pandas as pd \n",
    "import matplotlib.pyplot as plt\n",
    "import seaborn as sns\n",
    "import nltk\n",
    "import re\n",
    "\n",
    "from nltk.corpus import stopwords\n",
    "from nltk.tokenize import RegexpTokenizer\n",
    "from nltk.stem.snowball import SnowballStemmer\n",
    "\n",
    "from sklearn.metrics.pairwise import cosine_similarity\n",
    "from sklearn.preprocessing import LabelEncoder\n",
    "from sklearn.feature_extraction.text import CountVectorizer, TfidfVectorizer\n",
    "from sklearn.cluster import KMeans, MiniBatchKMeans\n",
    "from sklearn.decomposition import TruncatedSVD, NMF, LatentDirichletAllocation\n",
    "from sklearn.model_selection import train_test_split\n",
    "from sklearn.metrics import accuracy_score"
   ]
  },
  {
   "cell_type": "markdown",
   "metadata": {},
   "source": [
    "### Preparation and Cleaning"
   ]
  },
  {
   "cell_type": "code",
   "execution_count": 2,
   "metadata": {},
   "outputs": [],
   "source": [
    "# generate music lyrics df \n",
    "#with codecs.open(\"music_lyrics.csv\", \"r\", encoding='utf-8', errors='ignore') as csv_file:\n",
    "    #lyrics_df = pd.read_csv(csv_file)\n",
    "\n",
    "lyrics_df = pd.read_csv('music_lyrics.csv', encoding='latin-1')\n",
    "\n",
    "# replace \\n separator from lyrics with empty space \n",
    "lyrics_df = lyrics_df.replace({'\\n': ' '}, regex=True)\n",
    "# create lyric word count column \n",
    "lyrics_df['lyric_count'] = lyrics_df['lyrics'].str.split().str.len()"
   ]
  },
  {
   "cell_type": "code",
   "execution_count": 3,
   "metadata": {},
   "outputs": [],
   "source": [
    "# remove entries with lyric word counts equal to 1 \n",
    "clean_df = lyrics_df[lyrics_df['lyric_count'] != 1]\n",
    "# filter entries with lyrics word counts equal to or greater than 100\n",
    "clean_df = clean_df[clean_df['lyric_count'] >= 100]\n",
    "# filter entries with lyrics word counts equal to or less than 1000\n",
    "clean_df = clean_df[clean_df['lyric_count'] <= 1000]\n",
    "# remove entries with erroenous year data starting at 1970 onwards \n",
    "clean_df = clean_df[clean_df.year >= 1970]\n",
    "# remove any rows with missing values \n",
    "clean_df = clean_df.dropna(how='any') \n",
    "# scrub the df for random lyric duplicates\n",
    "clean_df = clean_df.drop_duplicates('lyrics')\n",
    "# filter only artists with atleast 10 songs\n",
    "clean_df = clean_df[clean_df.groupby('artist')['song'].transform('nunique') >= 10]\n",
    "# filter songs with 5 or more observations \n",
    "clean_df = clean_df.groupby('song').filter(lambda x: len(x) >= 3)"
   ]
  },
  {
   "cell_type": "code",
   "execution_count": 4,
   "metadata": {},
   "outputs": [],
   "source": [
    "# remove common directional words in lyrics as well as americon idol as this does not tether to a specific artist \n",
    "clean_df = clean_df[clean_df.genre != 'Other']\n",
    "clean_df = clean_df[clean_df.genre != 'Not Available']\n",
    "clean_df = clean_df[clean_df.lyrics != 'INSTRUMENTAL']\n",
    "clean_df = clean_df[clean_df.lyrics != 'instrumental']\n",
    "clean_df = clean_df[clean_df.lyrics != 'Instrumental']\n",
    "clean_df = clean_df[clean_df.lyrics != '[Instrumental]']\n",
    "clean_df = clean_df[clean_df.lyrics != '[instrumental]']\n",
    "clean_df = clean_df[clean_df.lyrics != '(Instrumental)']\n",
    "clean_df = clean_df[clean_df.lyrics != '(instrumental)']\n",
    "clean_df = clean_df[clean_df.lyrics != 'Instru']\n",
    "clean_df = clean_df[clean_df.artist != 'american-idol']"
   ]
  },
  {
   "cell_type": "markdown",
   "metadata": {},
   "source": [
    "### Exploratory Analysis"
   ]
  },
  {
   "cell_type": "code",
   "execution_count": 5,
   "metadata": {},
   "outputs": [],
   "source": [
    "# generate new exploratory df using random samples of 75% capacity of original df \n",
    "explore_df = clean_df.sample(frac=0.75)\n",
    "# set year as index \n",
    "explore_df.index = explore_df.year\n",
    "# sort year index \n",
    "explore_df.sort_index(inplace=True)"
   ]
  },
  {
   "cell_type": "code",
   "execution_count": 6,
   "metadata": {},
   "outputs": [],
   "source": [
    "# define function for text normalization\n",
    "def text_to_norm(x):\n",
    "    x = x.lower()\n",
    "    x = re.sub('\\s\\W',' ', x)\n",
    "    x = re.sub('\\W\\s',' ', x)\n",
    "    x = re.sub('\\s+',' ', x)\n",
    "    x = re.sub(\"'\", \"\", x)\n",
    "    return x"
   ]
  },
  {
   "cell_type": "code",
   "execution_count": 7,
   "metadata": {
    "collapsed": true
   },
   "outputs": [],
   "source": [
    "# custom stop words \n",
    "custom_stop = [\"'s\", \"n't\", \"'m\", \"'re\", \"'ll\",\"'ve\",\"...\", \"ä±\", \"''\", '``', '--', \"'d\", 'el', 'la']\n",
    "# Remove stop words\n",
    "stop_words = nltk.corpus.stopwords.words('english') + custom_stop"
   ]
  },
  {
   "cell_type": "code",
   "execution_count": 8,
   "metadata": {},
   "outputs": [
    {
     "name": "stderr",
     "output_type": "stream",
     "text": [
      "/Users/nicholastaub/anaconda/lib/python2.7/site-packages/ipykernel_launcher.py:4: UnicodeWarning: Unicode equal comparison failed to convert both arguments to Unicode - interpreting them as being unequal\n",
      "  after removing the cwd from sys.path.\n"
     ]
    }
   ],
   "source": [
    "# normalize text \n",
    "explore_df['text'] = [text_to_norm(x) for x in explore_df['lyrics']]\n",
    "# remove stop words from text\n",
    "explore_df['text'] = [i for i in explore_df['text'] if i not in stop_words]\n",
    "# convert genre values to lowercase for cleanliness  \n",
    "explore_df['genre'] = [x.lower() for x in explore_df['genre']]"
   ]
  },
  {
   "cell_type": "code",
   "execution_count": 9,
   "metadata": {
    "collapsed": true
   },
   "outputs": [],
   "source": [
    "# remove duplicative index, year and lyrics columns\n",
    "explore_df = explore_df.drop(['index','year', 'lyrics'], axis=1)"
   ]
  },
  {
   "cell_type": "code",
   "execution_count": 10,
   "metadata": {},
   "outputs": [],
   "source": [
    "# check exploratory df \n",
    "#explore_df.head()"
   ]
  },
  {
   "cell_type": "code",
   "execution_count": 11,
   "metadata": {
    "scrolled": true
   },
   "outputs": [
    {
     "data": {
      "text/plain": [
       "rock          15732\n",
       "pop            7021\n",
       "hip-hop        3265\n",
       "country        2164\n",
       "metal          1940\n",
       "jazz           1255\n",
       "electronic      860\n",
       "r&b             540\n",
       "indie           351\n",
       "folk            183\n",
       "Name: genre, dtype: int64"
      ]
     },
     "execution_count": 11,
     "metadata": {},
     "output_type": "execute_result"
    }
   ],
   "source": [
    "# value count of genres \n",
    "explore_df.genre.value_counts()"
   ]
  },
  {
   "cell_type": "code",
   "execution_count": 12,
   "metadata": {},
   "outputs": [],
   "source": [
    "# store unique counts of artists and songs \n",
    "unique_artists = len(explore_df.artist.unique())\n",
    "unique_tracks = len(explore_df.song.unique())"
   ]
  },
  {
   "cell_type": "code",
   "execution_count": 13,
   "metadata": {},
   "outputs": [
    {
     "data": {
      "text/plain": [
       "3789"
      ]
     },
     "execution_count": 13,
     "metadata": {},
     "output_type": "execute_result"
    }
   ],
   "source": [
    "# print count of unique artists \n",
    "unique_artists"
   ]
  },
  {
   "cell_type": "code",
   "execution_count": 14,
   "metadata": {
    "scrolled": true
   },
   "outputs": [
    {
     "data": {
      "text/plain": [
       "8374"
      ]
     },
     "execution_count": 14,
     "metadata": {},
     "output_type": "execute_result"
    }
   ],
   "source": [
    "# print count of unique tracks\n",
    "unique_tracks"
   ]
  },
  {
   "cell_type": "markdown",
   "metadata": {},
   "source": [
    "#### The below violin plot illutrates that most lyrics consist of 150-200 words total"
   ]
  },
  {
   "cell_type": "code",
   "execution_count": 15,
   "metadata": {
    "scrolled": true
   },
   "outputs": [
    {
     "data": {
      "image/png": "[encoded data removed]",
      "text/plain": [
       "<matplotlib.figure.Figure at 0x12922a5d0>"
      ]
     },
     "metadata": {},
     "output_type": "display_data"
    }
   ],
   "source": [
    "plt.figure(figsize=(15,5))\n",
    "sns.violinplot(x=explore_df[\"lyric_count\"], color='grey')\n",
    "plt.title('violin plot of lyric word counts')\n",
    "plt.ylabel('distribution')\n",
    "plt.xlim(0, 1000)\n",
    "plt.show()"
   ]
  },
  {
   "cell_type": "markdown",
   "metadata": {},
   "source": [
    "#### The below chart indicates the relative appeal of rock music"
   ]
  },
  {
   "cell_type": "code",
   "execution_count": 16,
   "metadata": {
    "scrolled": true
   },
   "outputs": [
    {
     "data": {
      "image/png": "[encoded data removed]",
      "text/plain": [
       "<matplotlib.figure.Figure at 0x11e8b4810>"
      ]
     },
     "metadata": {},
     "output_type": "display_data"
    }
   ],
   "source": [
    "plt.figure(figsize=(15,3))\n",
    "plt.title('genre popularity')\n",
    "plt.xlabel('count')\n",
    "plt.xticks(rotation=45)\n",
    "top_genres = explore_df['genre'].value_counts().nlargest(5).sort_values().plot.barh(color='maroon')\n",
    "plt.show()"
   ]
  },
  {
   "cell_type": "code",
   "execution_count": 17,
   "metadata": {},
   "outputs": [],
   "source": [
    "# define function to check top ten artists by genre \n",
    "def genre_count(genre):\n",
    "    genre = str(genre)\n",
    "    top_genre = explore_df[explore_df['genre'] == genre]\n",
    "    top_bands = top_genre.groupby('artist')['song'].count().nlargest(10)\n",
    "    plt.figure(figsize=(15,3))\n",
    "    top_bands.plot(kind='bar', color='teal')\n",
    "    title_form = 'top ten {} artists based on song frequency'.format(genre)\n",
    "    plt.title(title_form)\n",
    "    plt.xlabel('artist')\n",
    "    plt.xticks(rotation=45)\n",
    "    plt.ylabel('count')\n",
    "    plt.show()"
   ]
  },
  {
   "cell_type": "markdown",
   "metadata": {},
   "source": [
    "#### Function output of top ten rock artists"
   ]
  },
  {
   "cell_type": "code",
   "execution_count": 18,
   "metadata": {
    "scrolled": true
   },
   "outputs": [
    {
     "data": {
      "image/png": "[encoded data removed]",
      "text/plain": [
       "<matplotlib.figure.Figure at 0x11c49b590>"
      ]
     },
     "metadata": {},
     "output_type": "display_data"
    }
   ],
   "source": [
    "genre_count('rock')"
   ]
  },
  {
   "cell_type": "markdown",
   "metadata": {},
   "source": [
    "#### Function output of top ten pop artists"
   ]
  },
  {
   "cell_type": "code",
   "execution_count": 19,
   "metadata": {
    "scrolled": true
   },
   "outputs": [
    {
     "data": {
      "image/png": "[encoded data removed]",
      "text/plain": [
       "<matplotlib.figure.Figure at 0x1282482d0>"
      ]
     },
     "metadata": {},
     "output_type": "display_data"
    }
   ],
   "source": [
    "genre_count('pop')"
   ]
  },
  {
   "cell_type": "markdown",
   "metadata": {},
   "source": [
    "#### Function output of top ten hip-hop artists"
   ]
  },
  {
   "cell_type": "code",
   "execution_count": 20,
   "metadata": {
    "scrolled": true
   },
   "outputs": [
    {
     "data": {
      "image/png": "[encoded data removed]",
      "text/plain": [
       "<matplotlib.figure.Figure at 0x11edd9110>"
      ]
     },
     "metadata": {},
     "output_type": "display_data"
    }
   ],
   "source": [
    "genre_count('hip-hop')"
   ]
  },
  {
   "cell_type": "markdown",
   "metadata": {},
   "source": [
    "### Mini Batch KMeans"
   ]
  },
  {
   "cell_type": "code",
   "execution_count": 21,
   "metadata": {},
   "outputs": [],
   "source": [
    "# make separate modeling df for version control \n",
    "model_df = explore_df.copy()"
   ]
  },
  {
   "cell_type": "code",
   "execution_count": 22,
   "metadata": {
    "collapsed": true
   },
   "outputs": [],
   "source": [
    "# instantiate snowball stemmer and regex tokenizer \n",
    "stemmer = SnowballStemmer('english')\n",
    "tokenizer = RegexpTokenizer(r'[a-zA-Z\\']+')\n",
    "\n",
    "# define function using stemmer and tokenizer  \n",
    "def tokenize(text):\n",
    "    return [stemmer.stem(word) for word in tokenizer.tokenize(text.lower())]"
   ]
  },
  {
   "cell_type": "code",
   "execution_count": 23,
   "metadata": {},
   "outputs": [],
   "source": [
    "# fit vectors of unique word counts in text\n",
    "tfid_vectorizer = TfidfVectorizer(stop_words=stop_words, tokenizer=tokenize, max_features = 1000)\n",
    "X = tfid_vectorizer.fit_transform(model_df['text'])"
   ]
  },
  {
   "cell_type": "code",
   "execution_count": 24,
   "metadata": {},
   "outputs": [],
   "source": [
    "# check stored vocabulary of tfid vectorizer \n",
    "tfid_terms = tfid_vectorizer.get_feature_names()"
   ]
  },
  {
   "cell_type": "code",
   "execution_count": 25,
   "metadata": {
    "collapsed": true
   },
   "outputs": [],
   "source": [
    "# dimension reduction using truncasted SVD \n",
    "svd = TruncatedSVD(n_components=5, random_state = 0)\n",
    "X_SVD = svd.fit_transform(X)"
   ]
  },
  {
   "cell_type": "code",
   "execution_count": 59,
   "metadata": {},
   "outputs": [],
   "source": [
    "# fit and train k-mean clustering\n",
    "kmeans = MiniBatchKMeans(n_clusters=5, random_state=0, batch_size=100, n_init=10).fit(X_SVD)"
   ]
  },
  {
   "cell_type": "code",
   "execution_count": 60,
   "metadata": {},
   "outputs": [
    {
     "data": {
      "text/plain": [
       "array([[ 0.32025609, -0.02049318, -0.00579387, -0.00831224,  0.10489352],\n",
       "       [ 0.20190582,  0.00447656, -0.0518265 ,  0.02810877, -0.02761749],\n",
       "       [ 0.2866741 , -0.13315308,  0.07306   , -0.05336926, -0.062026  ],\n",
       "       [ 0.30029197,  0.20523924,  0.05655524, -0.10174247, -0.04537494],\n",
       "       [ 0.26421891,  0.07817988,  0.19609895,  0.25712688, -0.02886244]])"
      ]
     },
     "execution_count": 60,
     "metadata": {},
     "output_type": "execute_result"
    }
   ],
   "source": [
    "# verify cluster centers \n",
    "kmeans.cluster_centers_"
   ]
  },
  {
   "cell_type": "code",
   "execution_count": 61,
   "metadata": {
    "collapsed": true
   },
   "outputs": [],
   "source": [
    "# fit predict clusters using mini batch kmeans model\n",
    "text_clusters = kmeans.fit_predict(X_SVD)"
   ]
  },
  {
   "cell_type": "code",
   "execution_count": 62,
   "metadata": {},
   "outputs": [],
   "source": [
    "# display distance of observations by cluster groups\n",
    "cluster_plot = pd.DataFrame(list(X_SVD), list(text_clusters))\n",
    "cluster_plot = cluster_plot.reset_index()\n",
    "cluster_plot.rename(columns = {'index': 'Cluster'}, inplace = True)\n",
    "cluster_plot['Cluster'] = cluster_plot['Cluster'].astype(int)\n",
    "cluster_plot.index = cluster_plot.Cluster\n",
    "clust_plot = cluster_plot.drop(['Cluster'], axis=1)"
   ]
  },
  {
   "cell_type": "code",
   "execution_count": 63,
   "metadata": {},
   "outputs": [
    {
     "data": {
      "text/html": [
       "<div>\n",
       "<style>\n",
       "    .dataframe thead tr:only-child th {\n",
       "        text-align: right;\n",
       "    }\n",
       "\n",
       "    .dataframe thead th {\n",
       "        text-align: left;\n",
       "    }\n",
       "\n",
       "    .dataframe tbody tr th {\n",
       "        vertical-align: top;\n",
       "    }\n",
       "</style>\n",
       "<table border=\"1\" class=\"dataframe\">\n",
       "  <thead>\n",
       "    <tr style=\"text-align: right;\">\n",
       "      <th></th>\n",
       "      <th>0</th>\n",
       "      <th>1</th>\n",
       "      <th>2</th>\n",
       "      <th>3</th>\n",
       "      <th>4</th>\n",
       "    </tr>\n",
       "    <tr>\n",
       "      <th>Cluster</th>\n",
       "      <th></th>\n",
       "      <th></th>\n",
       "      <th></th>\n",
       "      <th></th>\n",
       "      <th></th>\n",
       "    </tr>\n",
       "  </thead>\n",
       "  <tbody>\n",
       "    <tr>\n",
       "      <th>1</th>\n",
       "      <td>0.280038</td>\n",
       "      <td>-0.063461</td>\n",
       "      <td>-0.075645</td>\n",
       "      <td>-0.001212</td>\n",
       "      <td>-0.051847</td>\n",
       "    </tr>\n",
       "    <tr>\n",
       "      <th>1</th>\n",
       "      <td>0.176477</td>\n",
       "      <td>-0.018653</td>\n",
       "      <td>-0.147685</td>\n",
       "      <td>0.076959</td>\n",
       "      <td>-0.099194</td>\n",
       "    </tr>\n",
       "    <tr>\n",
       "      <th>0</th>\n",
       "      <td>0.261795</td>\n",
       "      <td>0.079558</td>\n",
       "      <td>0.231717</td>\n",
       "      <td>-0.004086</td>\n",
       "      <td>0.096127</td>\n",
       "    </tr>\n",
       "    <tr>\n",
       "      <th>0</th>\n",
       "      <td>0.404325</td>\n",
       "      <td>0.129504</td>\n",
       "      <td>0.254591</td>\n",
       "      <td>0.017595</td>\n",
       "      <td>0.224624</td>\n",
       "    </tr>\n",
       "    <tr>\n",
       "      <th>1</th>\n",
       "      <td>0.169406</td>\n",
       "      <td>-0.035018</td>\n",
       "      <td>0.108418</td>\n",
       "      <td>0.018194</td>\n",
       "      <td>-0.017551</td>\n",
       "    </tr>\n",
       "    <tr>\n",
       "      <th>1</th>\n",
       "      <td>0.185375</td>\n",
       "      <td>0.013349</td>\n",
       "      <td>-0.109116</td>\n",
       "      <td>0.046250</td>\n",
       "      <td>-0.006481</td>\n",
       "    </tr>\n",
       "    <tr>\n",
       "      <th>1</th>\n",
       "      <td>0.210315</td>\n",
       "      <td>-0.004986</td>\n",
       "      <td>-0.113101</td>\n",
       "      <td>0.028114</td>\n",
       "      <td>0.007629</td>\n",
       "    </tr>\n",
       "    <tr>\n",
       "      <th>1</th>\n",
       "      <td>0.199999</td>\n",
       "      <td>-0.059801</td>\n",
       "      <td>-0.054064</td>\n",
       "      <td>0.022976</td>\n",
       "      <td>-0.015440</td>\n",
       "    </tr>\n",
       "    <tr>\n",
       "      <th>0</th>\n",
       "      <td>0.383985</td>\n",
       "      <td>0.115631</td>\n",
       "      <td>-0.051641</td>\n",
       "      <td>-0.045904</td>\n",
       "      <td>0.094137</td>\n",
       "    </tr>\n",
       "    <tr>\n",
       "      <th>0</th>\n",
       "      <td>0.349897</td>\n",
       "      <td>0.055121</td>\n",
       "      <td>-0.052135</td>\n",
       "      <td>0.042181</td>\n",
       "      <td>0.037653</td>\n",
       "    </tr>\n",
       "  </tbody>\n",
       "</table>\n",
       "</div>"
      ],
      "text/plain": [
       "                0         1         2         3         4\n",
       "Cluster                                                  \n",
       "1        0.280038 -0.063461 -0.075645 -0.001212 -0.051847\n",
       "1        0.176477 -0.018653 -0.147685  0.076959 -0.099194\n",
       "0        0.261795  0.079558  0.231717 -0.004086  0.096127\n",
       "0        0.404325  0.129504  0.254591  0.017595  0.224624\n",
       "1        0.169406 -0.035018  0.108418  0.018194 -0.017551\n",
       "1        0.185375  0.013349 -0.109116  0.046250 -0.006481\n",
       "1        0.210315 -0.004986 -0.113101  0.028114  0.007629\n",
       "1        0.199999 -0.059801 -0.054064  0.022976 -0.015440\n",
       "0        0.383985  0.115631 -0.051641 -0.045904  0.094137\n",
       "0        0.349897  0.055121 -0.052135  0.042181  0.037653"
      ]
     },
     "execution_count": 63,
     "metadata": {},
     "output_type": "execute_result"
    }
   ],
   "source": [
    "# check first ten rows \n",
    "clust_plot.head(10)"
   ]
  },
  {
   "cell_type": "code",
   "execution_count": 73,
   "metadata": {},
   "outputs": [
    {
     "name": "stderr",
     "output_type": "stream",
     "text": [
      "/Users/nicholastaub/anaconda/lib/python2.7/site-packages/ipykernel_launcher.py:1: FutureWarning: 'Cluster' is both a column name and an index level.\n",
      "Defaulting to column but this will raise an ambiguity error in a future version\n",
      "  \"\"\"Entry point for launching an IPython kernel.\n"
     ]
    },
    {
     "data": {
      "text/html": [
       "<div>\n",
       "<style>\n",
       "    .dataframe thead tr:only-child th {\n",
       "        text-align: right;\n",
       "    }\n",
       "\n",
       "    .dataframe thead th {\n",
       "        text-align: left;\n",
       "    }\n",
       "\n",
       "    .dataframe tbody tr th {\n",
       "        vertical-align: top;\n",
       "    }\n",
       "</style>\n",
       "<table border=\"1\" class=\"dataframe\">\n",
       "  <thead>\n",
       "    <tr style=\"text-align: right;\">\n",
       "      <th></th>\n",
       "      <th>Count</th>\n",
       "    </tr>\n",
       "    <tr>\n",
       "      <th>Cluster</th>\n",
       "      <th></th>\n",
       "    </tr>\n",
       "  </thead>\n",
       "  <tbody>\n",
       "    <tr>\n",
       "      <th>0</th>\n",
       "      <td>6836</td>\n",
       "    </tr>\n",
       "    <tr>\n",
       "      <th>1</th>\n",
       "      <td>17275</td>\n",
       "    </tr>\n",
       "    <tr>\n",
       "      <th>2</th>\n",
       "      <td>4565</td>\n",
       "    </tr>\n",
       "    <tr>\n",
       "      <th>3</th>\n",
       "      <td>3074</td>\n",
       "    </tr>\n",
       "    <tr>\n",
       "      <th>4</th>\n",
       "      <td>1561</td>\n",
       "    </tr>\n",
       "  </tbody>\n",
       "</table>\n",
       "</div>"
      ],
      "text/plain": [
       "         Count\n",
       "Cluster       \n",
       "0         6836\n",
       "1        17275\n",
       "2         4565\n",
       "3         3074\n",
       "4         1561"
      ]
     },
     "execution_count": 73,
     "metadata": {},
     "output_type": "execute_result"
    }
   ],
   "source": [
    "# group cluster labels by count \n",
    "cluster_group = cluster_plot.groupby('Cluster').agg({'Cluster': 'count'})\n",
    "cluster_group.columns = ['Count']\n",
    "cluster_group"
   ]
  },
  {
   "cell_type": "markdown",
   "metadata": {},
   "source": [
    "### NMF & LDA "
   ]
  },
  {
   "cell_type": "code",
   "execution_count": 75,
   "metadata": {
    "collapsed": true
   },
   "outputs": [],
   "source": [
    "# instantiate count vectorizer for probabilistic graphical modeling\n",
    "count_vectorizer = CountVectorizer(max_df=0.95, min_df=2, max_features=1000, stop_words=stop_words)"
   ]
  },
  {
   "cell_type": "code",
   "execution_count": 84,
   "metadata": {
    "collapsed": true
   },
   "outputs": [],
   "source": [
    "# fit raw text data to count vectorizer instance \n",
    "tf = count_vectorizer.fit_transform(model_df['text'])"
   ]
  },
  {
   "cell_type": "code",
   "execution_count": 85,
   "metadata": {},
   "outputs": [],
   "source": [
    "# get feature names from count vectorizer\n",
    "tf_feature_names = count_vectorizer.get_feature_names()\n",
    "# encode feature name list with utf-8\n",
    "tf_feature_names = [item.encode(\"utf-8\") for item in tf_feature_names]"
   ]
  },
  {
   "cell_type": "code",
   "execution_count": 99,
   "metadata": {},
   "outputs": [],
   "source": [
    "# instantiate and train NMF and LDA models \n",
    "nmf = NMF(n_components=10, random_state=1, alpha=.1, l1_ratio=.5, init='nndsvd').fit(X)\n",
    "lda = LatentDirichletAllocation(n_components=10, max_iter=5, learning_method='online', learning_offset=50.,random_state=0).fit(tf)"
   ]
  },
  {
   "cell_type": "code",
   "execution_count": 100,
   "metadata": {},
   "outputs": [],
   "source": [
    "# define function for printing top ten topic cluster across NMF and LDA models \n",
    "def topic_generator(model, feature_names, num_topics):\n",
    "    for topic_idx, topic in enumerate(model.components_):\n",
    "        print \"Topic %d:\" % (topic_idx), \" \".join([feature_names[i] for i in topic.argsort()[:-num_topics - 1:-1]])"
   ]
  },
  {
   "cell_type": "markdown",
   "metadata": {},
   "source": [
    "#### The below results illustrate topic clustering from the NMF and LDA models"
   ]
  },
  {
   "cell_type": "code",
   "execution_count": 101,
   "metadata": {},
   "outputs": [
    {
     "name": "stdout",
     "output_type": "stream",
     "text": [
      "Topic Clusters with Non-Negative Matrix Factorization \n",
      "\n",
      "Topic 0: time never one know way could ive say cant thing\n",
      "Topic 1: love heart give need true kiss sweet alway feel never\n",
      "Topic 2: nigga get like got aint fuck shit bitch ya yeah\n",
      "Topic 3: oh yeah whoa ooh ah boy woah yes lord hey\n",
      "Topic 4: dont want know need wanna whi say care tell feel\n",
      "Topic 5: im gonna caus ive feel cant think home know sorri\n",
      "Topic 6: babi girl yeah come wanna gonna got ooh hey good\n",
      "Topic 7: let go get take wont away cant back know never\n",
      "Topic 8: come night away light dream day world eye home heart\n",
      "Topic 9: ill never youll wait alway give take wont day need\n"
     ]
    }
   ],
   "source": [
    "# print NMF results\n",
    "print 'Topic Clusters with Non-Negative Matrix Factorization', '\\n'\n",
    "topic_generator(nmf, tfid_terms, 10)"
   ]
  },
  {
   "cell_type": "code",
   "execution_count": 102,
   "metadata": {},
   "outputs": [
    {
     "name": "stdout",
     "output_type": "stream",
     "text": [
      "Topic Clusters with Latent Dirichlet Allocation \n",
      "\n",
      "Topic 0: baby dont yeah want wanna girl know got hey like\n",
      "Topic 1: come back take lets around youre dance world round go\n",
      "Topic 2: away time life see eyes day never world heart feel\n",
      "Topic 3: get like got aint cause dont cant gotta keep time\n",
      "Topic 4: like night na one home well old song sing high\n",
      "Topic 5: go let dont know wont us run take give please\n",
      "Topic 6: im nigga ya shit fuck money niggas yo bitch em\n",
      "Topic 7: oh da save yeah whoa ah yes bad lay dream\n",
      "Topic 8: love know youre never one dont say heart could cant\n",
      "Topic 9: im gonna ive ill know time long day going man\n"
     ]
    }
   ],
   "source": [
    "# print LDA results\n",
    "print 'Topic Clusters with Latent Dirichlet Allocation', '\\n'\n",
    "topic_generator(lda, tf_feature_names, 10)"
   ]
  },
  {
   "cell_type": "code",
   "execution_count": null,
   "metadata": {
    "collapsed": true
   },
   "outputs": [],
   "source": []
  }
 ],
 "metadata": {
  "kernelspec": {
   "display_name": "Python 2",
   "language": "python",
   "name": "python2"
  },
  "language_info": {
   "codemirror_mode": {
    "name": "ipython",
    "version": 2
   },
   "file_extension": ".py",
   "mimetype": "text/x-python",
   "name": "python",
   "nbconvert_exporter": "python",
   "pygments_lexer": "ipython2",
   "version": "2.7.13"
  }
 },
 "nbformat": 4,
 "nbformat_minor": 2
}
